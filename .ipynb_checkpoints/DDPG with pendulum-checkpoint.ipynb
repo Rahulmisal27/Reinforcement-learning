{
 "cells": [
  {
   "cell_type": "code",
   "execution_count": 3,
   "metadata": {},
   "outputs": [],
   "source": [
    "import numpy as np\n",
    "import pandas as pd\n",
    "import matplotlib.pyplot as plt\n",
    "import gym\n",
    "import tensorflow as tf\n",
    "#tf.enable_eager_execution()\n",
    "from tensorflow.keras.layers import Dense, Input\n",
    "from tensorflow.keras import Model\n",
    "from tensorflow.keras import layers\n",
    "from tensorflow import keras\n",
    "import tensorflow\n",
    "#tf.enable_eager_execution()\n",
    "\n",
    "from tensorflow.keras.layers import Conv1D, Flatten\n"
   ]
  },
  {
   "cell_type": "code",
   "execution_count": 4,
   "metadata": {},
   "outputs": [],
   "source": [
    "problem='Pendulum-v0'\n",
    "env=gym.make(problem)"
   ]
  },
  {
   "cell_type": "code",
   "execution_count": 5,
   "metadata": {},
   "outputs": [],
   "source": [
    "num_states=env.observation_space.shape[0]\n",
    "num_actions=env.action_space.shape[0]\n",
    "upper_bound=env.action_space.high\n",
    "lower_bound=env.action_space.low"
   ]
  },
  {
   "cell_type": "code",
   "execution_count": 3,
   "metadata": {},
   "outputs": [
    {
     "data": {
      "text/plain": [
       "array([1.4693294], dtype=float32)"
      ]
     },
     "execution_count": 3,
     "metadata": {},
     "output_type": "execute_result"
    }
   ],
   "source": [
    "env.action_space.sample()"
   ]
  },
  {
   "cell_type": "code",
   "execution_count": 4,
   "metadata": {},
   "outputs": [
    {
     "data": {
      "text/plain": [
       "(array([-0.83834156, -0.54514533,  0.06397042]),\n",
       " -6.6513032903312705,\n",
       " False,\n",
       " {})"
      ]
     },
     "execution_count": 4,
     "metadata": {},
     "output_type": "execute_result"
    }
   ],
   "source": [
    "env.reset()\n",
    "env.render()\n",
    "env.step(env.action_space.sample())"
   ]
  },
  {
   "cell_type": "code",
   "execution_count": 5,
   "metadata": {},
   "outputs": [],
   "source": [
    "env.close()"
   ]
  },
  {
   "cell_type": "code",
   "execution_count": 8,
   "metadata": {},
   "outputs": [
    {
     "data": {
      "text/plain": [
       "(3, 1, array([2.], dtype=float32), array([-2.], dtype=float32))"
      ]
     },
     "execution_count": 8,
     "metadata": {},
     "output_type": "execute_result"
    }
   ],
   "source": [
    "num_states,num_actions,upper_bound,lower_bound"
   ]
  },
  {
   "cell_type": "code",
   "execution_count": 22,
   "metadata": {},
   "outputs": [],
   "source": [
    "class OUActionNoise():\n",
    "    def __init__(self,mean,std_deviation,theta=0.15,dt=1e-2,x_initial=None):\n",
    "        self.theta=theta\n",
    "        self.std_dev=std_deviation\n",
    "        self.mean=mean\n",
    "        self.dt=dt\n",
    "        self.x_initial=x_initial\n",
    "        self.reset()\n",
    "        \n",
    "    def __call__(self):\n",
    "        x=(self.x_prev+\n",
    "           self.theta*(self.mean-self.x_prev)*self.dt+\n",
    "          self.std_dev*np.sqrt(self.dt)*np.random.normal(size=self.mean.shape))\n",
    "        self.x_prev=x\n",
    "        return x\n",
    "    \n",
    "    def reset(self):\n",
    "        if self.x_initial is not None:\n",
    "            self.x_prev=self.x_initial\n",
    "            \n",
    "        else:\n",
    "            self.x_prev=np.zeros_like(self.mean)\n",
    "            \n",
    "    \n",
    "class Buffer:\n",
    "    def __init__(self,buffer_capacity=100000,batch_size=64):\n",
    "        self.buffer_capacity=buffer_capacity\n",
    "        self.batch_size=batch_size\n",
    "        self.buffer_counter=0\n",
    "        self.state_buffer=np.zeros((self.buffer_capacity,num_states))\n",
    "        self.action_buffer=np.zeros((self.buffer_capacity,num_actions))\n",
    "        self.reward_buffer=np.zeros((self.buffer_capacity,1))\n",
    "        self.next_state_buffer=np.zeros((self.buffer_capacity,num_states))\n",
    "        \n",
    "    def record(self,obs_tuple):\n",
    "        index=self.buffer_counter%self.buffer_capacity\n",
    "        self.state_buffer[index]=obs_tuple[0]\n",
    "        self.action_buffer[index]=obs_tuple[1]\n",
    "        self.reward_buffer[index]=obs_tuple[2]\n",
    "        self.next_state_buffer[index]=obs_tuple[3]\n",
    "        self.buffer_counter+=1\n",
    "        \n",
    "    @tf.function\n",
    "    def update(self,state_batch,action_batch,reward_batch,next_state_batch):\n",
    "        with tf.GradientTape() as tape:\n",
    "            target_actions=target_actor(next_state_batch,training=True)\n",
    "            y=reward_batch+gamma*target_critic([next_state_batch,target_actions],training=True)\n",
    "            critic_value=critic_model([state_batch,action_batch],training=True)\n",
    "            critic_loss=tf.math.reduce_mean(tf.math.square(y-critic_value))\n",
    "            critic_grad=tape.gradient(critic_loss,critic_model.trainable_variables)\n",
    "            critic_optimizer.apply_gradients(zip(critic_grad,critic_model.trainable_variables))\n",
    "            \n",
    "            \n",
    "    def learn(self):\n",
    "        record_range=min(self.buffer_counter,self.buffer_capacity)\n",
    "        batch_indices=np.random.choice(record_range,self.batch_size)\n",
    "        state_batch=tf.convert_to_tensor(self.state_buffer[batch_indices])\n",
    "        action_batch=tf.convert_to_tensor(self.action_buffer[batch_indices])\n",
    "        reward_batch=tf.convert_to_tensor(self.reward_buffer[batch_indices])\n",
    "        reward_batch=tf.cast(reward_batch,dtype=tf.float32)\n",
    "        next_state_batch=tf.convert_to_tensor(self.next_state_buffer[batch_indices])\n",
    "        self.update(state_batch,action_batch,reward_batch,next_state_batch)\n",
    "        \n",
    "@tf.function\n",
    "def update_target(target_weights,weights,tau):\n",
    "    for (a,b) in zip(target_weights,weights):\n",
    "        a.assign(b*tau+a*(1-tau))\n",
    "        \n",
    "def get_actor():\n",
    "    last_init=tf.random_uniform_initializer(minval=-0.003,maxval=0.003)\n",
    "    inputs=layers.Input(shape=(num_states,))\n",
    "    out=layers.Dense(256,activation='relu')(inputs)\n",
    "    out=layers.Dense(256,activation='relu')(out)\n",
    "    outputs=layers.Dense(1,activation='tanh',kernel_initializer=last_init)(out)\n",
    "    outputs= outputs * upper_bound\n",
    "    model=tf.keras.Model([inputs],outputs)\n",
    "    return model\n",
    "\n",
    "def get_critic():\n",
    "    state_input=layers.Input(shape=(num_states))\n",
    "    state_out=layers.Dense(16,activation='relu')(state_input)\n",
    "    state_out=layers.Dense(32,activation='relu')(state_out)\n",
    "    action_input=layers.Input(shape=(num_actions))\n",
    "    action_out=layers.Dense(32,activation='relu')(action_input)\n",
    "    concat=layers.concatenate([state_out,action_out])\n",
    "    out=layers.Dense(256,activation='relu')(concat)\n",
    "    out=layers.Dense(256,activation='relu')(out)\n",
    "    outputs=layers.Dense(1)(out)\n",
    "    \n",
    "    model=tf.keras.Model([state_input,action_input],outputs)\n",
    "    return model\n",
    "\n",
    "def policy(state,noise_object):\n",
    "    sampled_actions=tf.squeeze(actor_model(state))\n",
    "    noise=noise_object()\n",
    "    sampled_actions=sampled_actions.numpy()+noise\n",
    "    legal_action=np.clip(sampled_actions,lower_bound,upper_bound)\n",
    "    return [np.squeeze(legal_action)]\n",
    "\n"
   ]
  },
  {
   "cell_type": "code",
   "execution_count": 28,
   "metadata": {},
   "outputs": [],
   "source": [
    "std_dev=0.2\n",
    "ou_noise=OUActionNoise(mean=np.zeros(1),std_deviation=float(std_dev)*np.ones(1))\n",
    "actor_model=get_actor()\n",
    "critic_model=get_critic()\n",
    "\n",
    "target_actor=get_actor()\n",
    "target_critic=get_critic()\n",
    "\n",
    "target_actor.set_weights(actor_model.get_weights())\n",
    "target_critic.set_weights(critic_model.get_weights())\n",
    "\n",
    "critic_lr=0.002\n",
    "actor_lr=0.001\n",
    "\n",
    "critic_optimizer=tf.keras.optimizers.Adam(critic_lr)\n",
    "actor_optimizer=tf.keras.optimizers.Adam(actor_lr)\n",
    "\n",
    "total_episodes=10\n",
    "gamma=0.99\n",
    "tau=0.005\n",
    "buffer=Buffer(50000,64)\n"
   ]
  },
  {
   "cell_type": "code",
   "execution_count": 29,
   "metadata": {},
   "outputs": [
    {
     "name": "stdout",
     "output_type": "stream",
     "text": [
      "Episode * 0 * Avg Reward is ==> -1910.969190308048\n",
      "Episode * 1 * Avg Reward is ==> -1607.6062358728398\n",
      "Episode * 2 * Avg Reward is ==> -1418.160833310759\n",
      "Episode * 3 * Avg Reward is ==> -1420.6982729489334\n",
      "Episode * 4 * Avg Reward is ==> -1406.3952955265654\n",
      "Episode * 5 * Avg Reward is ==> -1349.6560991927672\n",
      "Episode * 6 * Avg Reward is ==> -1311.3878893827928\n",
      "Episode * 7 * Avg Reward is ==> -1304.7940261796787\n",
      "Episode * 8 * Avg Reward is ==> -1274.9243257165804\n",
      "Episode * 9 * Avg Reward is ==> -1294.3294316099643\n"
     ]
    }
   ],
   "source": [
    "ep_reward_list=[]\n",
    "avg_reward_list=[]\n",
    "\n",
    "for ep in range(total_episodes):\n",
    "    prev_state=env.reset()\n",
    "    episodic_reward=0\n",
    "    \n",
    "    while True:\n",
    "        tf_prev_state=tf.expand_dims(tf.convert_to_tensor(prev_state),0)\n",
    "        action=policy(tf_prev_state,ou_noise)\n",
    "        env.render()\n",
    "        state, reward, done, info = env.step(action)\n",
    "        buffer.record((prev_state,action,reward,state))\n",
    "        episodic_reward+=reward\n",
    "        buffer.learn()\n",
    "        update_target(target_actor.variables,actor_model.variables,tau)\n",
    "        update_target(target_critic.variables,critic_model.variables,tau)\n",
    "        \n",
    "        if done:\n",
    "            break\n",
    "            \n",
    "        prev_state=state\n",
    "        \n",
    "    ep_reward_list.append(episodic_reward)\n",
    "    avg_reward=np.mean(ep_reward_list[-40:])\n",
    "    print(\"Episode * {} * Avg Reward is ==> {}\".format(ep, avg_reward))\n",
    "    avg_reward_list.append(avg_reward)"
   ]
  },
  {
   "cell_type": "code",
   "execution_count": 30,
   "metadata": {},
   "outputs": [],
   "source": [
    "env.close()"
   ]
  },
  {
   "cell_type": "code",
   "execution_count": 31,
   "metadata": {},
   "outputs": [
    {
     "data": {
      "image/png": "[encoded data removed]",
      "text/plain": [
       "<Figure size 432x288 with 1 Axes>"
      ]
     },
     "metadata": {
      "needs_background": "light"
     },
     "output_type": "display_data"
    }
   ],
   "source": [
    "plt.plot(avg_reward_list)\n",
    "plt.xlabel(\"Episode\")\n",
    "plt.ylabel(\"Avg. Epsiodic Reward\")\n",
    "plt.show()"
   ]
  },
  {
   "cell_type": "code",
   "execution_count": null,
   "metadata": {},
   "outputs": [],
   "source": []
  }
 ],
 "metadata": {
  "kernelspec": {
   "display_name": "Python 3",
   "language": "python",
   "name": "python3"
  },
  "language_info": {
   "codemirror_mode": {
    "name": "ipython",
    "version": 3
   },
   "file_extension": ".py",
   "mimetype": "text/x-python",
   "name": "python",
   "nbconvert_exporter": "python",
   "pygments_lexer": "ipython3",
   "version": "3.8.5"
  }
 },
 "nbformat": 4,
 "nbformat_minor": 4
}
