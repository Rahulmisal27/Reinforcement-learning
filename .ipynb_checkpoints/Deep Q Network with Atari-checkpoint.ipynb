{
 "cells": [
  {
   "cell_type": "code",
   "execution_count": 1,
   "metadata": {},
   "outputs": [],
   "source": [
    "import numpy as np\n",
    "import pandas as pd\n",
    "import matplotlib.pyplot as plt\n",
    "import gym\n",
    "import tensorflow as tf\n",
    "from tensorflow.keras.layers import Dense, Input\n",
    "from tensorflow.keras import Model\n",
    "\n",
    "from tensorflow import keras\n",
    "\n",
    "#tf.enable_eager_execution()\n",
    "\n",
    "from tensorflow.keras.layers import Conv1D, Flatten\n",
    "\n",
    "from baselines.common.atari_wrappers import make_atari, wrap_deepmind"
   ]
  },
  {
   "cell_type": "markdown",
   "metadata": {},
   "source": [
    "# Deep Q Network"
   ]
  },
  {
   "cell_type": "code",
   "execution_count": 8,
   "metadata": {},
   "outputs": [
    {
     "data": {
      "text/plain": [
       "[123, 151010689]"
      ]
     },
     "execution_count": 8,
     "metadata": {},
     "output_type": "execute_result"
    }
   ],
   "source": [
    "seed=123\n",
    "gamma=0.99\n",
    "epsilon=1.0\n",
    "epsilon_min=0.1\n",
    "epsion_max=1.0\n",
    "epsilon_interval=(epsion_max-epsilon_min)\n",
    "max_steps_per_episode=1000\n",
    "env = make_atari(\"BreakoutNoFrameskip-v4\")\n",
    "env = wrap_deepmind(env, frame_stack=True, scale=True)\n",
    "env.seed(seed)"
   ]
  },
  {
   "cell_type": "code",
   "execution_count": 3,
   "metadata": {},
   "outputs": [
    {
     "data": {
      "text/plain": [
       "True"
      ]
     },
     "execution_count": 3,
     "metadata": {},
     "output_type": "execute_result"
    }
   ],
   "source": [
    "env.render()"
   ]
  },
  {
   "cell_type": "code",
   "execution_count": 11,
   "metadata": {},
   "outputs": [],
   "source": [
    "env.close()"
   ]
  },
  {
   "cell_type": "code",
   "execution_count": 4,
   "metadata": {},
   "outputs": [
    {
     "data": {
      "text/plain": [
       "5"
      ]
     },
     "execution_count": 4,
     "metadata": {},
     "output_type": "execute_result"
    }
   ],
   "source": [
    "env.action_space.sample()"
   ]
  },
  {
   "cell_type": "code",
   "execution_count": 86,
   "metadata": {},
   "outputs": [
    {
     "data": {
      "text/plain": [
       "Box(128,)"
      ]
     },
     "execution_count": 86,
     "metadata": {},
     "output_type": "execute_result"
    }
   ],
   "source": [
    "env.observation_space"
   ]
  },
  {
   "cell_type": "code",
   "execution_count": 9,
   "metadata": {},
   "outputs": [],
   "source": [
    "from tensorflow.keras.layers import Conv2D"
   ]
  },
  {
   "cell_type": "code",
   "execution_count": 10,
   "metadata": {},
   "outputs": [],
   "source": [
    "num_actions=4\n",
    "def deep_q_network():\n",
    "    inputs =Input(shape=(84, 84, 4,))\n",
    "    layer1=Conv2D(32,kernel_size=8,strides=4,activation='relu')(inputs)\n",
    "    layer2=Conv2D(64,kernel_size=4,strides=2,activation='relu')(layer1)\n",
    "    layer3=Conv2D(64,kernel_size=3,strides=1,activation='relu')(layer2)\n",
    "    layer4=Flatten()(layer3)\n",
    "    layer5=Dense(512,activation='relu')(layer4)\n",
    "    action=Dense(num_actions,activation='linear')(layer5)\n",
    "    model=Model(inputs=inputs, outputs=action)\n",
    "    return model"
   ]
  },
  {
   "cell_type": "code",
   "execution_count": 11,
   "metadata": {},
   "outputs": [
    {
     "name": "stdout",
     "output_type": "stream",
     "text": [
      "Model: \"functional_1\"\n",
      "_________________________________________________________________\n",
      "Layer (type)                 Output Shape              Param #   \n",
      "=================================================================\n",
      "input_1 (InputLayer)         [(None, 84, 84, 4)]       0         \n",
      "_________________________________________________________________\n",
      "conv2d (Conv2D)              (None, 20, 20, 32)        8224      \n",
      "_________________________________________________________________\n",
      "conv2d_1 (Conv2D)            (None, 9, 9, 64)          32832     \n",
      "_________________________________________________________________\n",
      "conv2d_2 (Conv2D)            (None, 7, 7, 64)          36928     \n",
      "_________________________________________________________________\n",
      "flatten (Flatten)            (None, 3136)              0         \n",
      "_________________________________________________________________\n",
      "dense (Dense)                (None, 512)               1606144   \n",
      "_________________________________________________________________\n",
      "dense_1 (Dense)              (None, 4)                 2052      \n",
      "=================================================================\n",
      "Total params: 1,686,180\n",
      "Trainable params: 1,686,180\n",
      "Non-trainable params: 0\n",
      "_________________________________________________________________\n"
     ]
    }
   ],
   "source": [
    "deep_q_network().summary()"
   ]
  },
  {
   "cell_type": "code",
   "execution_count": 12,
   "metadata": {},
   "outputs": [],
   "source": [
    "model=deep_q_network()\n",
    "model_target=deep_q_network()"
   ]
  },
  {
   "cell_type": "code",
   "execution_count": 13,
   "metadata": {},
   "outputs": [],
   "source": [
    "from tensorflow import keras"
   ]
  },
  {
   "cell_type": "code",
   "execution_count": null,
   "metadata": {},
   "outputs": [
    {
     "name": "stdout",
     "output_type": "stream",
     "text": [
      "running reward: 0.21 at episode 296, frame count 10000\n",
      "running reward: 0.45 at episode 566, frame count 20000\n",
      "running reward: 0.25 at episode 865, frame count 30000\n",
      "running reward: 0.32 at episode 1175, frame count 40000\n"
     ]
    }
   ],
   "source": [
    "optimizer=keras.optimizers.Adam(learning_rate=0.00025,clipnorm=1.0)\n",
    "action_history=[]\n",
    "state_history=[]\n",
    "state_next_history=[]\n",
    "reward_history=[]\n",
    "done_history=[]\n",
    "episode_reward_history=[]\n",
    "running_reward=0\n",
    "episode_count=0\n",
    "frame_count=0\n",
    "batch_size = 32\n",
    "epsilon_random_frames=50000\n",
    "epsilon_greedy_frames=1000000.0\n",
    "max_memory_length=100000\n",
    "update_after_actions=4\n",
    "update_target_network=10000\n",
    "loss_function=keras.losses.Huber()\n",
    "\n",
    "while True:\n",
    "    state=np.array(env.reset())\n",
    "    episode_reward=0\n",
    "    for time_stamp in range(1,max_steps_per_episode):\n",
    "        frame_count+=1\n",
    "        if frame_count<epsilon_random_frames or epsilon>np.random.rand(1)[0]:\n",
    "            action=np.random.choice(num_actions)\n",
    "        else:\n",
    "            state_tensor=tf.convert_to_tensor(state)\n",
    "            state_tensor=tf.expand_dims(state_tensor,0)\n",
    "            action_probs=model(state_tensor,training=False)\n",
    "            action=tf.argmax(action_probs[0]).numpy()\n",
    "            \n",
    "        epsilon-=epsilon_interval/epsilon_greedy_frames\n",
    "        \n",
    "        epsilon=max(epsilon,epsilon_min)\n",
    "        env.render()\n",
    "        state_next,reward,done,info=env.step(action)\n",
    "        \n",
    "        state_next=np.array(state_next)\n",
    "        \n",
    "        episode_reward+=reward\n",
    "        \n",
    "        action_history.append(action)\n",
    "        state_history.append(state)\n",
    "        done_history.append(done)\n",
    "        state_next_history.append(state_next)\n",
    "        reward_history.append(reward)\n",
    "        \n",
    "        state=state_next\n",
    "        \n",
    "        if frame_count%update_after_actions==0 and len(done_history)>batch_size:\n",
    "            indices=np.random.choice(range(len(done_history)),size=batch_size)\n",
    "            state_sample=np.array([state_history[i] for i in indices])\n",
    "            state_next_sample=np.array([state_next_history[i] for i in indices])\n",
    "            reward_sample=[reward_history[i] for i in indices]\n",
    "            action_sample=[action_history[i] for i in indices]\n",
    "            done_sample=tf.convert_to_tensor([float(done_history[i]) for i in indices])\n",
    "            \n",
    "            future_rewards=model_target.predict(state_next_sample)\n",
    "            \n",
    "            updated_q_values=reward_sample + gamma*tf.reduce_max(future_rewards,axis=1)\n",
    "            \n",
    "            masks=tf.one_hot(action_sample,num_actions)\n",
    "            \n",
    "            with tf.GradientTape() as tape:\n",
    "                q_values=model(state_sample)\n",
    "                q_action=tf.reduce_sum(tf.multiply(q_values,masks),axis=1)\n",
    "                loss=loss_function(updated_q_values,q_action)\n",
    "                \n",
    "            grads=tape.gradient(loss,model.trainable_variables)\n",
    "            optimizer.apply_gradients(zip(grads,model.trainable_variables))\n",
    "        if frame_count % update_target_network == 0:\n",
    "            # update the the target network with new weights\n",
    "            model_target.set_weights(model.get_weights())\n",
    "            # Log details\n",
    "            template = \"running reward: {:.2f} at episode {}, frame count {}\"\n",
    "            print(template.format(running_reward, episode_count, frame_count))\n",
    "\n",
    "        # Limit the state and reward history\n",
    "        if len(reward_history) > max_memory_length:\n",
    "            del reward_history[:1]\n",
    "            del state_history[:1]\n",
    "            del state_next_history[:1]\n",
    "            del action_history[:1]\n",
    "            del done_history[:1]\n",
    "\n",
    "        if done:\n",
    "            break\n",
    "\n",
    "    # Update running reward to check condition for solving\n",
    "    episode_reward_history.append(episode_reward)\n",
    "    if len(episode_reward_history) > 100:\n",
    "        del episode_reward_history[:1]\n",
    "    running_reward = np.mean(episode_reward_history)\n",
    "\n",
    "    episode_count += 1\n",
    "\n",
    "    if running_reward > 40:  # Condition to consider the task solved\n",
    "        print(\"Solved at episode {}!\".format(episode_count))\n",
    "        break\n",
    "                \n",
    "            \n",
    "            \n"
   ]
  },
  {
   "cell_type": "code",
   "execution_count": 90,
   "metadata": {},
   "outputs": [],
   "source": [
    "env.close()"
   ]
  }
 ],
 "metadata": {
  "kernelspec": {
   "display_name": "Python 3",
   "language": "python",
   "name": "python3"
  },
  "language_info": {
   "codemirror_mode": {
    "name": "ipython",
    "version": 3
   },
   "file_extension": ".py",
   "mimetype": "text/x-python",
   "name": "python",
   "nbconvert_exporter": "python",
   "pygments_lexer": "ipython3",
   "version": "3.8.5"
  }
 },
 "nbformat": 4,
 "nbformat_minor": 4
}
